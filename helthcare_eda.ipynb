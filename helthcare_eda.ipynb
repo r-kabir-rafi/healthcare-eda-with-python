{
 "cells": [
  {
   "cell_type": "code",
   "execution_count": 1,
   "id": "cf60982b",
   "metadata": {},
   "outputs": [
    {
     "name": "stdout",
     "output_type": "stream",
     "text": [
      "Requirement already satisfied: pandas in /home/rafi/anaconda3/lib/python3.11/site-packages (2.2.3)\n",
      "Requirement already satisfied: numpy in /home/rafi/anaconda3/lib/python3.11/site-packages (1.26.4)\n",
      "Requirement already satisfied: matplotlib in /home/rafi/anaconda3/lib/python3.11/site-packages (3.8.4)\n",
      "Requirement already satisfied: seaborn in /home/rafi/anaconda3/lib/python3.11/site-packages (0.13.2)\n",
      "Requirement already satisfied: python-dateutil>=2.8.2 in /home/rafi/anaconda3/lib/python3.11/site-packages (from pandas) (2.9.0)\n",
      "Requirement already satisfied: pytz>=2020.1 in /home/rafi/anaconda3/lib/python3.11/site-packages (from pandas) (2024.1)\n",
      "Requirement already satisfied: tzdata>=2022.7 in /home/rafi/anaconda3/lib/python3.11/site-packages (from pandas) (2024.2)\n",
      "Requirement already satisfied: contourpy>=1.0.1 in /home/rafi/anaconda3/lib/python3.11/site-packages (from matplotlib) (1.3.0)\n",
      "Requirement already satisfied: cycler>=0.10 in /home/rafi/anaconda3/lib/python3.11/site-packages (from matplotlib) (0.12.1)\n",
      "Requirement already satisfied: fonttools>=4.22.0 in /home/rafi/anaconda3/lib/python3.11/site-packages (from matplotlib) (4.54.1)\n",
      "Requirement already satisfied: kiwisolver>=1.3.1 in /home/rafi/anaconda3/lib/python3.11/site-packages (from matplotlib) (1.4.7)\n",
      "Requirement already satisfied: packaging>=20.0 in /home/rafi/anaconda3/lib/python3.11/site-packages (from matplotlib) (24.1)\n",
      "Requirement already satisfied: pillow>=8 in /home/rafi/anaconda3/lib/python3.11/site-packages (from matplotlib) (10.4.0)\n",
      "Requirement already satisfied: pyparsing>=2.3.1 in /home/rafi/anaconda3/lib/python3.11/site-packages (from matplotlib) (3.2.0)\n",
      "Requirement already satisfied: six>=1.5 in /home/rafi/anaconda3/lib/python3.11/site-packages (from python-dateutil>=2.8.2->pandas) (1.16.0)\n"
     ]
    }
   ],
   "source": [
    "# installing Dependencies\n",
    "\n",
    "import sys\n",
    "!{sys.executable} -m pip install pandas numpy matplotlib seaborn"
   ]
  },
  {
   "cell_type": "markdown",
   "id": "0f2a4af8",
   "metadata": {},
   "source": [
    "**Importing all the dependencies**"
   ]
  },
  {
   "cell_type": "code",
   "execution_count": 2,
   "id": "a2e360dc",
   "metadata": {},
   "outputs": [],
   "source": [
    "# core libraries\n",
    "import numpy as np      # Numerical operations and array management \n",
    "import pandas as pd     # Data manipulation, cleaning, filtering, aggregation\n",
    "\n",
    "#visualization Libraries\n",
    "import matplotlib.pyplot as plt   # Basic plotting (histograms, line plots, etc.)\n",
    "import seaborn as sns             # Statistical visualization (correlations, heatmaps, etc.)\n",
    "import plotly.express as px        # Interactive plotting (simple) for pie charts, line plots, etc.\n",
    "import plotly.graph_objects as go  # More control over interactive Plotly plots\n",
    "from plotly.subplots import make_subplots  # Combining multiple plots into one interactive figure\n",
    "\n",
    "\n",
    "# Suppress Warnings\n",
    "import warnings\n",
    "warnings.filterwarnings('ignore')  # Ignore non-critical warnings to keep output clean"
   ]
  },
  {
   "cell_type": "markdown",
   "id": "250f655f",
   "metadata": {},
   "source": [
    "**Read CSV dataset**"
   ]
  },
  {
   "cell_type": "code",
   "execution_count": 6,
   "id": "1dfb02b1",
   "metadata": {},
   "outputs": [
    {
     "data": {
      "text/html": [
       "<div>\n",
       "<style scoped>\n",
       "    .dataframe tbody tr th:only-of-type {\n",
       "        vertical-align: middle;\n",
       "    }\n",
       "\n",
       "    .dataframe tbody tr th {\n",
       "        vertical-align: top;\n",
       "    }\n",
       "\n",
       "    .dataframe thead th {\n",
       "        text-align: right;\n",
       "    }\n",
       "</style>\n",
       "<table border=\"1\" class=\"dataframe\">\n",
       "  <thead>\n",
       "    <tr style=\"text-align: right;\">\n",
       "      <th></th>\n",
       "      <th>Name</th>\n",
       "      <th>Age</th>\n",
       "      <th>Gender</th>\n",
       "      <th>Blood Type</th>\n",
       "      <th>Medical Condition</th>\n",
       "      <th>Date of Admission</th>\n",
       "      <th>Doctor</th>\n",
       "      <th>Hospital</th>\n",
       "      <th>Insurance Provider</th>\n",
       "      <th>Billing Amount</th>\n",
       "      <th>Room Number</th>\n",
       "      <th>Admission Type</th>\n",
       "      <th>Discharge Date</th>\n",
       "      <th>Medication</th>\n",
       "      <th>Test Results</th>\n",
       "    </tr>\n",
       "  </thead>\n",
       "  <tbody>\n",
       "    <tr>\n",
       "      <th>0</th>\n",
       "      <td>Bobby JacksOn</td>\n",
       "      <td>30</td>\n",
       "      <td>Male</td>\n",
       "      <td>B-</td>\n",
       "      <td>Cancer</td>\n",
       "      <td>2024-01-31</td>\n",
       "      <td>Matthew Smith</td>\n",
       "      <td>Sons and Miller</td>\n",
       "      <td>Blue Cross</td>\n",
       "      <td>18856.281306</td>\n",
       "      <td>328</td>\n",
       "      <td>Urgent</td>\n",
       "      <td>2024-02-02</td>\n",
       "      <td>Paracetamol</td>\n",
       "      <td>Normal</td>\n",
       "    </tr>\n",
       "    <tr>\n",
       "      <th>1</th>\n",
       "      <td>LesLie TErRy</td>\n",
       "      <td>62</td>\n",
       "      <td>Male</td>\n",
       "      <td>A+</td>\n",
       "      <td>Obesity</td>\n",
       "      <td>2019-08-20</td>\n",
       "      <td>Samantha Davies</td>\n",
       "      <td>Kim Inc</td>\n",
       "      <td>Medicare</td>\n",
       "      <td>33643.327287</td>\n",
       "      <td>265</td>\n",
       "      <td>Emergency</td>\n",
       "      <td>2019-08-26</td>\n",
       "      <td>Ibuprofen</td>\n",
       "      <td>Inconclusive</td>\n",
       "    </tr>\n",
       "    <tr>\n",
       "      <th>2</th>\n",
       "      <td>DaNnY sMitH</td>\n",
       "      <td>76</td>\n",
       "      <td>Female</td>\n",
       "      <td>A-</td>\n",
       "      <td>Obesity</td>\n",
       "      <td>2022-09-22</td>\n",
       "      <td>Tiffany Mitchell</td>\n",
       "      <td>Cook PLC</td>\n",
       "      <td>Aetna</td>\n",
       "      <td>27955.096079</td>\n",
       "      <td>205</td>\n",
       "      <td>Emergency</td>\n",
       "      <td>2022-10-07</td>\n",
       "      <td>Aspirin</td>\n",
       "      <td>Normal</td>\n",
       "    </tr>\n",
       "    <tr>\n",
       "      <th>3</th>\n",
       "      <td>andrEw waTtS</td>\n",
       "      <td>28</td>\n",
       "      <td>Female</td>\n",
       "      <td>O+</td>\n",
       "      <td>Diabetes</td>\n",
       "      <td>2020-11-18</td>\n",
       "      <td>Kevin Wells</td>\n",
       "      <td>Hernandez Rogers and Vang,</td>\n",
       "      <td>Medicare</td>\n",
       "      <td>37909.782410</td>\n",
       "      <td>450</td>\n",
       "      <td>Elective</td>\n",
       "      <td>2020-12-18</td>\n",
       "      <td>Ibuprofen</td>\n",
       "      <td>Abnormal</td>\n",
       "    </tr>\n",
       "    <tr>\n",
       "      <th>4</th>\n",
       "      <td>adrIENNE bEll</td>\n",
       "      <td>43</td>\n",
       "      <td>Female</td>\n",
       "      <td>AB+</td>\n",
       "      <td>Cancer</td>\n",
       "      <td>2022-09-19</td>\n",
       "      <td>Kathleen Hanna</td>\n",
       "      <td>White-White</td>\n",
       "      <td>Aetna</td>\n",
       "      <td>14238.317814</td>\n",
       "      <td>458</td>\n",
       "      <td>Urgent</td>\n",
       "      <td>2022-10-09</td>\n",
       "      <td>Penicillin</td>\n",
       "      <td>Abnormal</td>\n",
       "    </tr>\n",
       "  </tbody>\n",
       "</table>\n",
       "</div>"
      ],
      "text/plain": [
       "            Name  Age  Gender Blood Type Medical Condition Date of Admission  \\\n",
       "0  Bobby JacksOn   30    Male         B-            Cancer        2024-01-31   \n",
       "1   LesLie TErRy   62    Male         A+           Obesity        2019-08-20   \n",
       "2    DaNnY sMitH   76  Female         A-           Obesity        2022-09-22   \n",
       "3   andrEw waTtS   28  Female         O+          Diabetes        2020-11-18   \n",
       "4  adrIENNE bEll   43  Female        AB+            Cancer        2022-09-19   \n",
       "\n",
       "             Doctor                    Hospital Insurance Provider  \\\n",
       "0     Matthew Smith             Sons and Miller         Blue Cross   \n",
       "1   Samantha Davies                     Kim Inc           Medicare   \n",
       "2  Tiffany Mitchell                    Cook PLC              Aetna   \n",
       "3       Kevin Wells  Hernandez Rogers and Vang,           Medicare   \n",
       "4    Kathleen Hanna                 White-White              Aetna   \n",
       "\n",
       "   Billing Amount  Room Number Admission Type Discharge Date   Medication  \\\n",
       "0    18856.281306          328         Urgent     2024-02-02  Paracetamol   \n",
       "1    33643.327287          265      Emergency     2019-08-26    Ibuprofen   \n",
       "2    27955.096079          205      Emergency     2022-10-07      Aspirin   \n",
       "3    37909.782410          450       Elective     2020-12-18    Ibuprofen   \n",
       "4    14238.317814          458         Urgent     2022-10-09   Penicillin   \n",
       "\n",
       "   Test Results  \n",
       "0        Normal  \n",
       "1  Inconclusive  \n",
       "2        Normal  \n",
       "3      Abnormal  \n",
       "4      Abnormal  "
      ]
     },
     "execution_count": 6,
     "metadata": {},
     "output_type": "execute_result"
    }
   ],
   "source": [
    "df = pd.read_csv(\"/home/rafi/Project/healthcare_eda/healthcare_dataset.csv\")\n",
    "df.head()"
   ]
  },
  {
   "cell_type": "code",
   "execution_count": 8,
   "id": "f0e91b22",
   "metadata": {},
   "outputs": [
    {
     "data": {
      "text/html": [
       "<div>\n",
       "<style scoped>\n",
       "    .dataframe tbody tr th:only-of-type {\n",
       "        vertical-align: middle;\n",
       "    }\n",
       "\n",
       "    .dataframe tbody tr th {\n",
       "        vertical-align: top;\n",
       "    }\n",
       "\n",
       "    .dataframe thead th {\n",
       "        text-align: right;\n",
       "    }\n",
       "</style>\n",
       "<table border=\"1\" class=\"dataframe\">\n",
       "  <thead>\n",
       "    <tr style=\"text-align: right;\">\n",
       "      <th></th>\n",
       "      <th>0</th>\n",
       "      <th>1</th>\n",
       "      <th>2</th>\n",
       "      <th>3</th>\n",
       "      <th>4</th>\n",
       "    </tr>\n",
       "  </thead>\n",
       "  <tbody>\n",
       "    <tr>\n",
       "      <th>Name</th>\n",
       "      <td>Bobby JacksOn</td>\n",
       "      <td>LesLie TErRy</td>\n",
       "      <td>DaNnY sMitH</td>\n",
       "      <td>andrEw waTtS</td>\n",
       "      <td>adrIENNE bEll</td>\n",
       "    </tr>\n",
       "    <tr>\n",
       "      <th>Age</th>\n",
       "      <td>30</td>\n",
       "      <td>62</td>\n",
       "      <td>76</td>\n",
       "      <td>28</td>\n",
       "      <td>43</td>\n",
       "    </tr>\n",
       "    <tr>\n",
       "      <th>Gender</th>\n",
       "      <td>Male</td>\n",
       "      <td>Male</td>\n",
       "      <td>Female</td>\n",
       "      <td>Female</td>\n",
       "      <td>Female</td>\n",
       "    </tr>\n",
       "    <tr>\n",
       "      <th>Blood Type</th>\n",
       "      <td>B-</td>\n",
       "      <td>A+</td>\n",
       "      <td>A-</td>\n",
       "      <td>O+</td>\n",
       "      <td>AB+</td>\n",
       "    </tr>\n",
       "    <tr>\n",
       "      <th>Medical Condition</th>\n",
       "      <td>Cancer</td>\n",
       "      <td>Obesity</td>\n",
       "      <td>Obesity</td>\n",
       "      <td>Diabetes</td>\n",
       "      <td>Cancer</td>\n",
       "    </tr>\n",
       "    <tr>\n",
       "      <th>Date of Admission</th>\n",
       "      <td>2024-01-31</td>\n",
       "      <td>2019-08-20</td>\n",
       "      <td>2022-09-22</td>\n",
       "      <td>2020-11-18</td>\n",
       "      <td>2022-09-19</td>\n",
       "    </tr>\n",
       "    <tr>\n",
       "      <th>Doctor</th>\n",
       "      <td>Matthew Smith</td>\n",
       "      <td>Samantha Davies</td>\n",
       "      <td>Tiffany Mitchell</td>\n",
       "      <td>Kevin Wells</td>\n",
       "      <td>Kathleen Hanna</td>\n",
       "    </tr>\n",
       "    <tr>\n",
       "      <th>Hospital</th>\n",
       "      <td>Sons and Miller</td>\n",
       "      <td>Kim Inc</td>\n",
       "      <td>Cook PLC</td>\n",
       "      <td>Hernandez Rogers and Vang,</td>\n",
       "      <td>White-White</td>\n",
       "    </tr>\n",
       "    <tr>\n",
       "      <th>Insurance Provider</th>\n",
       "      <td>Blue Cross</td>\n",
       "      <td>Medicare</td>\n",
       "      <td>Aetna</td>\n",
       "      <td>Medicare</td>\n",
       "      <td>Aetna</td>\n",
       "    </tr>\n",
       "    <tr>\n",
       "      <th>Billing Amount</th>\n",
       "      <td>18856.281306</td>\n",
       "      <td>33643.327287</td>\n",
       "      <td>27955.096079</td>\n",
       "      <td>37909.78241</td>\n",
       "      <td>14238.317814</td>\n",
       "    </tr>\n",
       "    <tr>\n",
       "      <th>Room Number</th>\n",
       "      <td>328</td>\n",
       "      <td>265</td>\n",
       "      <td>205</td>\n",
       "      <td>450</td>\n",
       "      <td>458</td>\n",
       "    </tr>\n",
       "    <tr>\n",
       "      <th>Admission Type</th>\n",
       "      <td>Urgent</td>\n",
       "      <td>Emergency</td>\n",
       "      <td>Emergency</td>\n",
       "      <td>Elective</td>\n",
       "      <td>Urgent</td>\n",
       "    </tr>\n",
       "    <tr>\n",
       "      <th>Discharge Date</th>\n",
       "      <td>2024-02-02</td>\n",
       "      <td>2019-08-26</td>\n",
       "      <td>2022-10-07</td>\n",
       "      <td>2020-12-18</td>\n",
       "      <td>2022-10-09</td>\n",
       "    </tr>\n",
       "    <tr>\n",
       "      <th>Medication</th>\n",
       "      <td>Paracetamol</td>\n",
       "      <td>Ibuprofen</td>\n",
       "      <td>Aspirin</td>\n",
       "      <td>Ibuprofen</td>\n",
       "      <td>Penicillin</td>\n",
       "    </tr>\n",
       "    <tr>\n",
       "      <th>Test Results</th>\n",
       "      <td>Normal</td>\n",
       "      <td>Inconclusive</td>\n",
       "      <td>Normal</td>\n",
       "      <td>Abnormal</td>\n",
       "      <td>Abnormal</td>\n",
       "    </tr>\n",
       "  </tbody>\n",
       "</table>\n",
       "</div>"
      ],
      "text/plain": [
       "                                  0                1                 2  \\\n",
       "Name                  Bobby JacksOn     LesLie TErRy       DaNnY sMitH   \n",
       "Age                              30               62                76   \n",
       "Gender                         Male             Male            Female   \n",
       "Blood Type                       B-               A+                A-   \n",
       "Medical Condition            Cancer          Obesity           Obesity   \n",
       "Date of Admission        2024-01-31       2019-08-20        2022-09-22   \n",
       "Doctor                Matthew Smith  Samantha Davies  Tiffany Mitchell   \n",
       "Hospital            Sons and Miller          Kim Inc          Cook PLC   \n",
       "Insurance Provider       Blue Cross         Medicare             Aetna   \n",
       "Billing Amount         18856.281306     33643.327287      27955.096079   \n",
       "Room Number                     328              265               205   \n",
       "Admission Type               Urgent        Emergency         Emergency   \n",
       "Discharge Date           2024-02-02       2019-08-26        2022-10-07   \n",
       "Medication              Paracetamol        Ibuprofen           Aspirin   \n",
       "Test Results                 Normal     Inconclusive            Normal   \n",
       "\n",
       "                                             3               4  \n",
       "Name                              andrEw waTtS   adrIENNE bEll  \n",
       "Age                                         28              43  \n",
       "Gender                                  Female          Female  \n",
       "Blood Type                                  O+             AB+  \n",
       "Medical Condition                     Diabetes          Cancer  \n",
       "Date of Admission                   2020-11-18      2022-09-19  \n",
       "Doctor                             Kevin Wells  Kathleen Hanna  \n",
       "Hospital            Hernandez Rogers and Vang,     White-White  \n",
       "Insurance Provider                    Medicare           Aetna  \n",
       "Billing Amount                     37909.78241    14238.317814  \n",
       "Room Number                                450             458  \n",
       "Admission Type                        Elective          Urgent  \n",
       "Discharge Date                      2020-12-18      2022-10-09  \n",
       "Medication                           Ibuprofen      Penicillin  \n",
       "Test Results                          Abnormal        Abnormal  "
      ]
     },
     "execution_count": 8,
     "metadata": {},
     "output_type": "execute_result"
    }
   ],
   "source": [
    "df.head().T"
   ]
  },
  {
   "cell_type": "code",
   "execution_count": 9,
   "id": "91f14b75",
   "metadata": {},
   "outputs": [
    {
     "name": "stdout",
     "output_type": "stream",
     "text": [
      "<class 'pandas.core.frame.DataFrame'>\n",
      "RangeIndex: 55500 entries, 0 to 55499\n",
      "Data columns (total 15 columns):\n",
      " #   Column              Non-Null Count  Dtype  \n",
      "---  ------              --------------  -----  \n",
      " 0   Name                55500 non-null  object \n",
      " 1   Age                 55500 non-null  int64  \n",
      " 2   Gender              55500 non-null  object \n",
      " 3   Blood Type          55500 non-null  object \n",
      " 4   Medical Condition   55500 non-null  object \n",
      " 5   Date of Admission   55500 non-null  object \n",
      " 6   Doctor              55500 non-null  object \n",
      " 7   Hospital            55500 non-null  object \n",
      " 8   Insurance Provider  55500 non-null  object \n",
      " 9   Billing Amount      55500 non-null  float64\n",
      " 10  Room Number         55500 non-null  int64  \n",
      " 11  Admission Type      55500 non-null  object \n",
      " 12  Discharge Date      55500 non-null  object \n",
      " 13  Medication          55500 non-null  object \n",
      " 14  Test Results        55500 non-null  object \n",
      "dtypes: float64(1), int64(2), object(12)\n",
      "memory usage: 6.4+ MB\n"
     ]
    }
   ],
   "source": [
    "#summary of the DataFrame, including the index dtype and column dtypes, non-null values and memory usage\n",
    "\n",
    "df.info()"
   ]
  },
  {
   "cell_type": "markdown",
   "id": "a84424ca",
   "metadata": {},
   "source": [
    "*Numerical column*"
   ]
  },
  {
   "cell_type": "code",
   "execution_count": 10,
   "id": "b3e473f3",
   "metadata": {},
   "outputs": [
    {
     "name": "stdout",
     "output_type": "stream",
     "text": [
      "Numerical Column Names: ['Age', 'Billing Amount', 'Room Number']\n"
     ]
    }
   ],
   "source": [
    "numerical_column_names = df.select_dtypes(include=['number']).columns\n",
    "print(\"Numerical Column Names:\", numerical_column_names.tolist())"
   ]
  },
  {
   "cell_type": "code",
   "execution_count": 11,
   "id": "d3d2a761",
   "metadata": {},
   "outputs": [
    {
     "data": {
      "text/html": [
       "<div>\n",
       "<style scoped>\n",
       "    .dataframe tbody tr th:only-of-type {\n",
       "        vertical-align: middle;\n",
       "    }\n",
       "\n",
       "    .dataframe tbody tr th {\n",
       "        vertical-align: top;\n",
       "    }\n",
       "\n",
       "    .dataframe thead th {\n",
       "        text-align: right;\n",
       "    }\n",
       "</style>\n",
       "<table border=\"1\" class=\"dataframe\">\n",
       "  <thead>\n",
       "    <tr style=\"text-align: right;\">\n",
       "      <th></th>\n",
       "      <th>Age</th>\n",
       "      <th>Billing Amount</th>\n",
       "      <th>Room Number</th>\n",
       "    </tr>\n",
       "  </thead>\n",
       "  <tbody>\n",
       "    <tr>\n",
       "      <th>count</th>\n",
       "      <td>55500.000000</td>\n",
       "      <td>55500.000000</td>\n",
       "      <td>55500.000000</td>\n",
       "    </tr>\n",
       "    <tr>\n",
       "      <th>mean</th>\n",
       "      <td>51.539459</td>\n",
       "      <td>25539.316097</td>\n",
       "      <td>301.134829</td>\n",
       "    </tr>\n",
       "    <tr>\n",
       "      <th>std</th>\n",
       "      <td>19.602454</td>\n",
       "      <td>14211.454431</td>\n",
       "      <td>115.243069</td>\n",
       "    </tr>\n",
       "    <tr>\n",
       "      <th>min</th>\n",
       "      <td>13.000000</td>\n",
       "      <td>-2008.492140</td>\n",
       "      <td>101.000000</td>\n",
       "    </tr>\n",
       "    <tr>\n",
       "      <th>25%</th>\n",
       "      <td>35.000000</td>\n",
       "      <td>13241.224652</td>\n",
       "      <td>202.000000</td>\n",
       "    </tr>\n",
       "    <tr>\n",
       "      <th>50%</th>\n",
       "      <td>52.000000</td>\n",
       "      <td>25538.069376</td>\n",
       "      <td>302.000000</td>\n",
       "    </tr>\n",
       "    <tr>\n",
       "      <th>75%</th>\n",
       "      <td>68.000000</td>\n",
       "      <td>37820.508436</td>\n",
       "      <td>401.000000</td>\n",
       "    </tr>\n",
       "    <tr>\n",
       "      <th>max</th>\n",
       "      <td>89.000000</td>\n",
       "      <td>52764.276736</td>\n",
       "      <td>500.000000</td>\n",
       "    </tr>\n",
       "  </tbody>\n",
       "</table>\n",
       "</div>"
      ],
      "text/plain": [
       "                Age  Billing Amount   Room Number\n",
       "count  55500.000000    55500.000000  55500.000000\n",
       "mean      51.539459    25539.316097    301.134829\n",
       "std       19.602454    14211.454431    115.243069\n",
       "min       13.000000    -2008.492140    101.000000\n",
       "25%       35.000000    13241.224652    202.000000\n",
       "50%       52.000000    25538.069376    302.000000\n",
       "75%       68.000000    37820.508436    401.000000\n",
       "max       89.000000    52764.276736    500.000000"
      ]
     },
     "execution_count": 11,
     "metadata": {},
     "output_type": "execute_result"
    }
   ],
   "source": [
    "#computes summary of statistics pertaining to the DataFrame's numeric columns.\n",
    "\n",
    "df.describe()"
   ]
  },
  {
   "cell_type": "markdown",
   "id": "8c742e81",
   "metadata": {},
   "source": [
    "*Non-numeric / Object Column Name*"
   ]
  },
  {
   "cell_type": "code",
   "execution_count": 12,
   "id": "7bf409db",
   "metadata": {},
   "outputs": [
    {
     "name": "stdout",
     "output_type": "stream",
     "text": [
      "Object Column Names: ['Name', 'Gender', 'Blood Type', 'Medical Condition', 'Date of Admission', 'Doctor', 'Hospital', 'Insurance Provider', 'Admission Type', 'Discharge Date', 'Medication', 'Test Results']\n"
     ]
    }
   ],
   "source": [
    "object_column_names = df.select_dtypes(include=['object']).columns\n",
    "print(\"Object Column Names:\", object_column_names.tolist())"
   ]
  },
  {
   "cell_type": "code",
   "execution_count": 13,
   "id": "5bdd7822",
   "metadata": {},
   "outputs": [
    {
     "data": {
      "text/html": [
       "<div>\n",
       "<style scoped>\n",
       "    .dataframe tbody tr th:only-of-type {\n",
       "        vertical-align: middle;\n",
       "    }\n",
       "\n",
       "    .dataframe tbody tr th {\n",
       "        vertical-align: top;\n",
       "    }\n",
       "\n",
       "    .dataframe thead th {\n",
       "        text-align: right;\n",
       "    }\n",
       "</style>\n",
       "<table border=\"1\" class=\"dataframe\">\n",
       "  <thead>\n",
       "    <tr style=\"text-align: right;\">\n",
       "      <th></th>\n",
       "      <th>count</th>\n",
       "      <th>unique</th>\n",
       "      <th>top</th>\n",
       "      <th>freq</th>\n",
       "    </tr>\n",
       "  </thead>\n",
       "  <tbody>\n",
       "    <tr>\n",
       "      <th>Name</th>\n",
       "      <td>55500</td>\n",
       "      <td>49992</td>\n",
       "      <td>DAvId muNoZ</td>\n",
       "      <td>3</td>\n",
       "    </tr>\n",
       "    <tr>\n",
       "      <th>Gender</th>\n",
       "      <td>55500</td>\n",
       "      <td>2</td>\n",
       "      <td>Male</td>\n",
       "      <td>27774</td>\n",
       "    </tr>\n",
       "    <tr>\n",
       "      <th>Blood Type</th>\n",
       "      <td>55500</td>\n",
       "      <td>8</td>\n",
       "      <td>A-</td>\n",
       "      <td>6969</td>\n",
       "    </tr>\n",
       "    <tr>\n",
       "      <th>Medical Condition</th>\n",
       "      <td>55500</td>\n",
       "      <td>6</td>\n",
       "      <td>Arthritis</td>\n",
       "      <td>9308</td>\n",
       "    </tr>\n",
       "    <tr>\n",
       "      <th>Date of Admission</th>\n",
       "      <td>55500</td>\n",
       "      <td>1827</td>\n",
       "      <td>2024-03-16</td>\n",
       "      <td>50</td>\n",
       "    </tr>\n",
       "    <tr>\n",
       "      <th>Doctor</th>\n",
       "      <td>55500</td>\n",
       "      <td>40341</td>\n",
       "      <td>Michael Smith</td>\n",
       "      <td>27</td>\n",
       "    </tr>\n",
       "    <tr>\n",
       "      <th>Hospital</th>\n",
       "      <td>55500</td>\n",
       "      <td>39876</td>\n",
       "      <td>LLC Smith</td>\n",
       "      <td>44</td>\n",
       "    </tr>\n",
       "    <tr>\n",
       "      <th>Insurance Provider</th>\n",
       "      <td>55500</td>\n",
       "      <td>5</td>\n",
       "      <td>Cigna</td>\n",
       "      <td>11249</td>\n",
       "    </tr>\n",
       "    <tr>\n",
       "      <th>Admission Type</th>\n",
       "      <td>55500</td>\n",
       "      <td>3</td>\n",
       "      <td>Elective</td>\n",
       "      <td>18655</td>\n",
       "    </tr>\n",
       "    <tr>\n",
       "      <th>Discharge Date</th>\n",
       "      <td>55500</td>\n",
       "      <td>1856</td>\n",
       "      <td>2020-03-15</td>\n",
       "      <td>53</td>\n",
       "    </tr>\n",
       "    <tr>\n",
       "      <th>Medication</th>\n",
       "      <td>55500</td>\n",
       "      <td>5</td>\n",
       "      <td>Lipitor</td>\n",
       "      <td>11140</td>\n",
       "    </tr>\n",
       "    <tr>\n",
       "      <th>Test Results</th>\n",
       "      <td>55500</td>\n",
       "      <td>3</td>\n",
       "      <td>Abnormal</td>\n",
       "      <td>18627</td>\n",
       "    </tr>\n",
       "  </tbody>\n",
       "</table>\n",
       "</div>"
      ],
      "text/plain": [
       "                    count unique            top   freq\n",
       "Name                55500  49992    DAvId muNoZ      3\n",
       "Gender              55500      2           Male  27774\n",
       "Blood Type          55500      8             A-   6969\n",
       "Medical Condition   55500      6      Arthritis   9308\n",
       "Date of Admission   55500   1827     2024-03-16     50\n",
       "Doctor              55500  40341  Michael Smith     27\n",
       "Hospital            55500  39876      LLC Smith     44\n",
       "Insurance Provider  55500      5          Cigna  11249\n",
       "Admission Type      55500      3       Elective  18655\n",
       "Discharge Date      55500   1856     2020-03-15     53\n",
       "Medication          55500      5        Lipitor  11140\n",
       "Test Results        55500      3       Abnormal  18627"
      ]
     },
     "execution_count": 13,
     "metadata": {},
     "output_type": "execute_result"
    }
   ],
   "source": [
    "#computes summary of statistics pertaining to the DataFrame's categorical columns.\n",
    "df.describe(include = 'object').T"
   ]
  },
  {
   "cell_type": "code",
   "execution_count": 14,
   "id": "ffb2f46f",
   "metadata": {},
   "outputs": [
    {
     "data": {
      "text/html": [
       "<div>\n",
       "<style scoped>\n",
       "    .dataframe tbody tr th:only-of-type {\n",
       "        vertical-align: middle;\n",
       "    }\n",
       "\n",
       "    .dataframe tbody tr th {\n",
       "        vertical-align: top;\n",
       "    }\n",
       "\n",
       "    .dataframe thead th {\n",
       "        text-align: right;\n",
       "    }\n",
       "</style>\n",
       "<table border=\"1\" class=\"dataframe\">\n",
       "  <thead>\n",
       "    <tr style=\"text-align: right;\">\n",
       "      <th></th>\n",
       "      <th>Name</th>\n",
       "      <th>Age</th>\n",
       "      <th>Gender</th>\n",
       "      <th>Blood Type</th>\n",
       "      <th>Medical Condition</th>\n",
       "      <th>Date of Admission</th>\n",
       "      <th>Doctor</th>\n",
       "      <th>Hospital</th>\n",
       "      <th>Insurance Provider</th>\n",
       "      <th>Billing Amount</th>\n",
       "      <th>Room Number</th>\n",
       "      <th>Admission Type</th>\n",
       "      <th>Discharge Date</th>\n",
       "      <th>Medication</th>\n",
       "      <th>Test Results</th>\n",
       "    </tr>\n",
       "  </thead>\n",
       "  <tbody>\n",
       "    <tr>\n",
       "      <th>count</th>\n",
       "      <td>55500</td>\n",
       "      <td>55500.000000</td>\n",
       "      <td>55500</td>\n",
       "      <td>55500</td>\n",
       "      <td>55500</td>\n",
       "      <td>55500</td>\n",
       "      <td>55500</td>\n",
       "      <td>55500</td>\n",
       "      <td>55500</td>\n",
       "      <td>55500.000000</td>\n",
       "      <td>55500.000000</td>\n",
       "      <td>55500</td>\n",
       "      <td>55500</td>\n",
       "      <td>55500</td>\n",
       "      <td>55500</td>\n",
       "    </tr>\n",
       "    <tr>\n",
       "      <th>unique</th>\n",
       "      <td>49992</td>\n",
       "      <td>NaN</td>\n",
       "      <td>2</td>\n",
       "      <td>8</td>\n",
       "      <td>6</td>\n",
       "      <td>1827</td>\n",
       "      <td>40341</td>\n",
       "      <td>39876</td>\n",
       "      <td>5</td>\n",
       "      <td>NaN</td>\n",
       "      <td>NaN</td>\n",
       "      <td>3</td>\n",
       "      <td>1856</td>\n",
       "      <td>5</td>\n",
       "      <td>3</td>\n",
       "    </tr>\n",
       "    <tr>\n",
       "      <th>top</th>\n",
       "      <td>DAvId muNoZ</td>\n",
       "      <td>NaN</td>\n",
       "      <td>Male</td>\n",
       "      <td>A-</td>\n",
       "      <td>Arthritis</td>\n",
       "      <td>2024-03-16</td>\n",
       "      <td>Michael Smith</td>\n",
       "      <td>LLC Smith</td>\n",
       "      <td>Cigna</td>\n",
       "      <td>NaN</td>\n",
       "      <td>NaN</td>\n",
       "      <td>Elective</td>\n",
       "      <td>2020-03-15</td>\n",
       "      <td>Lipitor</td>\n",
       "      <td>Abnormal</td>\n",
       "    </tr>\n",
       "    <tr>\n",
       "      <th>freq</th>\n",
       "      <td>3</td>\n",
       "      <td>NaN</td>\n",
       "      <td>27774</td>\n",
       "      <td>6969</td>\n",
       "      <td>9308</td>\n",
       "      <td>50</td>\n",
       "      <td>27</td>\n",
       "      <td>44</td>\n",
       "      <td>11249</td>\n",
       "      <td>NaN</td>\n",
       "      <td>NaN</td>\n",
       "      <td>18655</td>\n",
       "      <td>53</td>\n",
       "      <td>11140</td>\n",
       "      <td>18627</td>\n",
       "    </tr>\n",
       "    <tr>\n",
       "      <th>mean</th>\n",
       "      <td>NaN</td>\n",
       "      <td>51.539459</td>\n",
       "      <td>NaN</td>\n",
       "      <td>NaN</td>\n",
       "      <td>NaN</td>\n",
       "      <td>NaN</td>\n",
       "      <td>NaN</td>\n",
       "      <td>NaN</td>\n",
       "      <td>NaN</td>\n",
       "      <td>25539.316097</td>\n",
       "      <td>301.134829</td>\n",
       "      <td>NaN</td>\n",
       "      <td>NaN</td>\n",
       "      <td>NaN</td>\n",
       "      <td>NaN</td>\n",
       "    </tr>\n",
       "    <tr>\n",
       "      <th>std</th>\n",
       "      <td>NaN</td>\n",
       "      <td>19.602454</td>\n",
       "      <td>NaN</td>\n",
       "      <td>NaN</td>\n",
       "      <td>NaN</td>\n",
       "      <td>NaN</td>\n",
       "      <td>NaN</td>\n",
       "      <td>NaN</td>\n",
       "      <td>NaN</td>\n",
       "      <td>14211.454431</td>\n",
       "      <td>115.243069</td>\n",
       "      <td>NaN</td>\n",
       "      <td>NaN</td>\n",
       "      <td>NaN</td>\n",
       "      <td>NaN</td>\n",
       "    </tr>\n",
       "    <tr>\n",
       "      <th>min</th>\n",
       "      <td>NaN</td>\n",
       "      <td>13.000000</td>\n",
       "      <td>NaN</td>\n",
       "      <td>NaN</td>\n",
       "      <td>NaN</td>\n",
       "      <td>NaN</td>\n",
       "      <td>NaN</td>\n",
       "      <td>NaN</td>\n",
       "      <td>NaN</td>\n",
       "      <td>-2008.492140</td>\n",
       "      <td>101.000000</td>\n",
       "      <td>NaN</td>\n",
       "      <td>NaN</td>\n",
       "      <td>NaN</td>\n",
       "      <td>NaN</td>\n",
       "    </tr>\n",
       "    <tr>\n",
       "      <th>25%</th>\n",
       "      <td>NaN</td>\n",
       "      <td>35.000000</td>\n",
       "      <td>NaN</td>\n",
       "      <td>NaN</td>\n",
       "      <td>NaN</td>\n",
       "      <td>NaN</td>\n",
       "      <td>NaN</td>\n",
       "      <td>NaN</td>\n",
       "      <td>NaN</td>\n",
       "      <td>13241.224652</td>\n",
       "      <td>202.000000</td>\n",
       "      <td>NaN</td>\n",
       "      <td>NaN</td>\n",
       "      <td>NaN</td>\n",
       "      <td>NaN</td>\n",
       "    </tr>\n",
       "    <tr>\n",
       "      <th>50%</th>\n",
       "      <td>NaN</td>\n",
       "      <td>52.000000</td>\n",
       "      <td>NaN</td>\n",
       "      <td>NaN</td>\n",
       "      <td>NaN</td>\n",
       "      <td>NaN</td>\n",
       "      <td>NaN</td>\n",
       "      <td>NaN</td>\n",
       "      <td>NaN</td>\n",
       "      <td>25538.069376</td>\n",
       "      <td>302.000000</td>\n",
       "      <td>NaN</td>\n",
       "      <td>NaN</td>\n",
       "      <td>NaN</td>\n",
       "      <td>NaN</td>\n",
       "    </tr>\n",
       "    <tr>\n",
       "      <th>75%</th>\n",
       "      <td>NaN</td>\n",
       "      <td>68.000000</td>\n",
       "      <td>NaN</td>\n",
       "      <td>NaN</td>\n",
       "      <td>NaN</td>\n",
       "      <td>NaN</td>\n",
       "      <td>NaN</td>\n",
       "      <td>NaN</td>\n",
       "      <td>NaN</td>\n",
       "      <td>37820.508436</td>\n",
       "      <td>401.000000</td>\n",
       "      <td>NaN</td>\n",
       "      <td>NaN</td>\n",
       "      <td>NaN</td>\n",
       "      <td>NaN</td>\n",
       "    </tr>\n",
       "    <tr>\n",
       "      <th>max</th>\n",
       "      <td>NaN</td>\n",
       "      <td>89.000000</td>\n",
       "      <td>NaN</td>\n",
       "      <td>NaN</td>\n",
       "      <td>NaN</td>\n",
       "      <td>NaN</td>\n",
       "      <td>NaN</td>\n",
       "      <td>NaN</td>\n",
       "      <td>NaN</td>\n",
       "      <td>52764.276736</td>\n",
       "      <td>500.000000</td>\n",
       "      <td>NaN</td>\n",
       "      <td>NaN</td>\n",
       "      <td>NaN</td>\n",
       "      <td>NaN</td>\n",
       "    </tr>\n",
       "  </tbody>\n",
       "</table>\n",
       "</div>"
      ],
      "text/plain": [
       "               Name           Age Gender Blood Type Medical Condition  \\\n",
       "count         55500  55500.000000  55500      55500             55500   \n",
       "unique        49992           NaN      2          8                 6   \n",
       "top     DAvId muNoZ           NaN   Male         A-         Arthritis   \n",
       "freq              3           NaN  27774       6969              9308   \n",
       "mean            NaN     51.539459    NaN        NaN               NaN   \n",
       "std             NaN     19.602454    NaN        NaN               NaN   \n",
       "min             NaN     13.000000    NaN        NaN               NaN   \n",
       "25%             NaN     35.000000    NaN        NaN               NaN   \n",
       "50%             NaN     52.000000    NaN        NaN               NaN   \n",
       "75%             NaN     68.000000    NaN        NaN               NaN   \n",
       "max             NaN     89.000000    NaN        NaN               NaN   \n",
       "\n",
       "       Date of Admission         Doctor   Hospital Insurance Provider  \\\n",
       "count              55500          55500      55500              55500   \n",
       "unique              1827          40341      39876                  5   \n",
       "top           2024-03-16  Michael Smith  LLC Smith              Cigna   \n",
       "freq                  50             27         44              11249   \n",
       "mean                 NaN            NaN        NaN                NaN   \n",
       "std                  NaN            NaN        NaN                NaN   \n",
       "min                  NaN            NaN        NaN                NaN   \n",
       "25%                  NaN            NaN        NaN                NaN   \n",
       "50%                  NaN            NaN        NaN                NaN   \n",
       "75%                  NaN            NaN        NaN                NaN   \n",
       "max                  NaN            NaN        NaN                NaN   \n",
       "\n",
       "        Billing Amount   Room Number Admission Type Discharge Date Medication  \\\n",
       "count     55500.000000  55500.000000          55500          55500      55500   \n",
       "unique             NaN           NaN              3           1856          5   \n",
       "top                NaN           NaN       Elective     2020-03-15    Lipitor   \n",
       "freq               NaN           NaN          18655             53      11140   \n",
       "mean      25539.316097    301.134829            NaN            NaN        NaN   \n",
       "std       14211.454431    115.243069            NaN            NaN        NaN   \n",
       "min       -2008.492140    101.000000            NaN            NaN        NaN   \n",
       "25%       13241.224652    202.000000            NaN            NaN        NaN   \n",
       "50%       25538.069376    302.000000            NaN            NaN        NaN   \n",
       "75%       37820.508436    401.000000            NaN            NaN        NaN   \n",
       "max       52764.276736    500.000000            NaN            NaN        NaN   \n",
       "\n",
       "       Test Results  \n",
       "count         55500  \n",
       "unique            3  \n",
       "top        Abnormal  \n",
       "freq          18627  \n",
       "mean            NaN  \n",
       "std             NaN  \n",
       "min             NaN  \n",
       "25%             NaN  \n",
       "50%             NaN  \n",
       "75%             NaN  \n",
       "max             NaN  "
      ]
     },
     "execution_count": 14,
     "metadata": {},
     "output_type": "execute_result"
    }
   ],
   "source": [
    "#computes summary of the DataFrame including numeric and categorical columns.\n",
    "\n",
    "df.describe(include='all')"
   ]
  },
  {
   "cell_type": "code",
   "execution_count": 15,
   "id": "0a2c2efd",
   "metadata": {},
   "outputs": [
    {
     "data": {
      "text/plain": [
       "(55500, 15)"
      ]
     },
     "execution_count": 15,
     "metadata": {},
     "output_type": "execute_result"
    }
   ],
   "source": [
    "# return a tuple with the dimension of the dataframe\n",
    "df.shape"
   ]
  },
  {
   "cell_type": "markdown",
   "id": "755f6eea",
   "metadata": {},
   "source": [
    "There are 555000 rows and 15 columns in this dataset."
   ]
  },
  {
   "cell_type": "markdown",
   "id": "23f1db0b",
   "metadata": {},
   "source": [
    "**DATA CLEANING**"
   ]
  },
  {
   "cell_type": "markdown",
   "id": "e5879df1",
   "metadata": {},
   "source": [
    "*Null Values*"
   ]
  },
  {
   "cell_type": "markdown",
   "id": "a58f6aef",
   "metadata": {},
   "source": [
    "Incase there were null values we can get rid of them using dropna function."
   ]
  },
  {
   "cell_type": "code",
   "execution_count": 16,
   "id": "4266e0b9",
   "metadata": {},
   "outputs": [
    {
     "data": {
      "text/plain": [
       "Name                  0\n",
       "Age                   0\n",
       "Gender                0\n",
       "Blood Type            0\n",
       "Medical Condition     0\n",
       "Date of Admission     0\n",
       "Doctor                0\n",
       "Hospital              0\n",
       "Insurance Provider    0\n",
       "Billing Amount        0\n",
       "Room Number           0\n",
       "Admission Type        0\n",
       "Discharge Date        0\n",
       "Medication            0\n",
       "Test Results          0\n",
       "dtype: int64"
      ]
     },
     "execution_count": 16,
     "metadata": {},
     "output_type": "execute_result"
    }
   ],
   "source": [
    "df.isnull().sum()"
   ]
  },
  {
   "cell_type": "code",
   "execution_count": 17,
   "id": "790ab8c6",
   "metadata": {},
   "outputs": [
    {
     "data": {
      "text/plain": [
       "Name                  0\n",
       "Age                   0\n",
       "Gender                0\n",
       "Blood Type            0\n",
       "Medical Condition     0\n",
       "Date of Admission     0\n",
       "Doctor                0\n",
       "Hospital              0\n",
       "Insurance Provider    0\n",
       "Billing Amount        0\n",
       "Room Number           0\n",
       "Admission Type        0\n",
       "Discharge Date        0\n",
       "Medication            0\n",
       "Test Results          0\n",
       "dtype: int64"
      ]
     },
     "execution_count": 17,
     "metadata": {},
     "output_type": "execute_result"
    }
   ],
   "source": [
    "# dropping rows with Null values\n",
    "\n",
    "df.dropna(inplace=True)\n",
    "df.isnull().sum()"
   ]
  },
  {
   "cell_type": "markdown",
   "id": "23c76d2c",
   "metadata": {},
   "source": [
    "*Duplicate rows*"
   ]
  },
  {
   "cell_type": "code",
   "execution_count": 18,
   "id": "c83c3a69",
   "metadata": {},
   "outputs": [
    {
     "name": "stdout",
     "output_type": "stream",
     "text": [
      "Number of duplicated rows: 534\n"
     ]
    }
   ],
   "source": [
    "#check if there are duplicate records in the data\n",
    "\n",
    "df_duplicated = df.duplicated().sum()\n",
    "print(f\"Number of duplicated rows: {df_duplicated}\")"
   ]
  },
  {
   "cell_type": "code",
   "execution_count": 19,
   "id": "be1c0b48",
   "metadata": {},
   "outputs": [
    {
     "name": "stdout",
     "output_type": "stream",
     "text": [
      "Number of duplicated rows: 0\n"
     ]
    }
   ],
   "source": [
    "# drop duplicates\n",
    "df = df.drop_duplicates()\n",
    "\n",
    "# check duplicated rows agin\n",
    "df_duplicated = df.duplicated().sum()\n",
    "print(f\"Number of duplicated rows: {df_duplicated}\")"
   ]
  },
  {
   "cell_type": "code",
   "execution_count": 20,
   "id": "3becf2f2",
   "metadata": {},
   "outputs": [
    {
     "name": "stdout",
     "output_type": "stream",
     "text": [
      "Rows in Data: 54966, Columns in Data: 15)\n"
     ]
    },
    {
     "data": {
      "text/plain": [
       "(54966, 15)"
      ]
     },
     "execution_count": 20,
     "metadata": {},
     "output_type": "execute_result"
    }
   ],
   "source": [
    "print(f\"Rows in Data: {df.shape[0]}, Columns in Data: {df.shape[1]})\")\n",
    "df.shape"
   ]
  },
  {
   "cell_type": "markdown",
   "id": "39b5fe32",
   "metadata": {},
   "source": [
    "**Standardize Name Columns**"
   ]
  },
  {
   "cell_type": "code",
   "execution_count": 21,
   "id": "e4b99a71",
   "metadata": {},
   "outputs": [
    {
     "data": {
      "text/plain": [
       "0            Bobby JacksOn\n",
       "1             LesLie TErRy\n",
       "2              DaNnY sMitH\n",
       "3             andrEw waTtS\n",
       "4            adrIENNE bEll\n",
       "               ...        \n",
       "55495    eLIZABeTH jaCkSOn\n",
       "55496           KYle pEREz\n",
       "55497         HEATher WaNG\n",
       "55498       JENniFER JOneS\n",
       "55499         jAMES GARCiA\n",
       "Name: Name, Length: 54966, dtype: object"
      ]
     },
     "execution_count": 21,
     "metadata": {},
     "output_type": "execute_result"
    }
   ],
   "source": [
    "df[\"Name\"]"
   ]
  },
  {
   "cell_type": "markdown",
   "id": "eb178202",
   "metadata": {},
   "source": [
    "name isn't added here correctly. we need to make correction here."
   ]
  },
  {
   "cell_type": "code",
   "execution_count": 23,
   "id": "1a9bc3b2",
   "metadata": {},
   "outputs": [
    {
     "data": {
      "text/plain": [
       "0            Bobby Jackson\n",
       "1             Leslie Terry\n",
       "2              Danny Smith\n",
       "3             Andrew Watts\n",
       "4            Adrienne Bell\n",
       "               ...        \n",
       "55495    Elizabeth Jackson\n",
       "55496           Kyle Perez\n",
       "55497         Heather Wang\n",
       "55498       Jennifer Jones\n",
       "55499         James Garcia\n",
       "Name: Name, Length: 54966, dtype: object"
      ]
     },
     "execution_count": 23,
     "metadata": {},
     "output_type": "execute_result"
    }
   ],
   "source": [
    "df['Name'] = df['Name'].str.title()\n",
    "df['Name']"
   ]
  },
  {
   "cell_type": "markdown",
   "id": "193d5986",
   "metadata": {},
   "source": [
    "Now, Name column looks fine."
   ]
  },
  {
   "cell_type": "markdown",
   "id": "d3c8f849",
   "metadata": {},
   "source": [
    "**Adjusting Billing Account**"
   ]
  },
  {
   "cell_type": "code",
   "execution_count": 24,
   "id": "efe78caf",
   "metadata": {},
   "outputs": [
    {
     "name": "stdout",
     "output_type": "stream",
     "text": [
      "Number of rows with Billing Amount <= 0: 106\n"
     ]
    }
   ],
   "source": [
    "count_non_positive = df[df['Billing Amount'] <= 0].shape[0]\n",
    "print(\"Number of rows with Billing Amount <= 0:\", count_non_positive)"
   ]
  },
  {
   "cell_type": "markdown",
   "id": "06a2c22f",
   "metadata": {},
   "source": [
    "about 106 patients has negative bill number, which can't be possible. what we can do is convert them into posive or drop those patient column."
   ]
  },
  {
   "cell_type": "code",
   "execution_count": 25,
   "id": "4b79e151",
   "metadata": {},
   "outputs": [],
   "source": [
    "# Remove rows where Billing Amount is zero or negative and keep only positive value\n",
    "# df = df[df['Billing Amount'] > 0]"
   ]
  },
  {
   "cell_type": "code",
   "execution_count": 26,
   "id": "12a95f68",
   "metadata": {},
   "outputs": [],
   "source": [
    "# Convert all billing amounts to positive values\n",
    "df['Billing Amount'] = df['Billing Amount'].abs()"
   ]
  },
  {
   "cell_type": "code",
   "execution_count": 27,
   "id": "9bd61813",
   "metadata": {},
   "outputs": [
    {
     "name": "stdout",
     "output_type": "stream",
     "text": [
      "Number of rows with Billing Amount <= 0: 0\n"
     ]
    }
   ],
   "source": [
    "count_non_positive = df[df['Billing Amount'] <= 0].shape[0]\n",
    "print(\"Number of rows with Billing Amount <= 0:\", count_non_positive)"
   ]
  },
  {
   "cell_type": "markdown",
   "id": "2afa270f",
   "metadata": {},
   "source": [
    "now, it looks good. "
   ]
  },
  {
   "cell_type": "markdown",
   "id": "3d745507",
   "metadata": {},
   "source": [
    "**Date column type change from object to date**"
   ]
  },
  {
   "cell_type": "code",
   "execution_count": 28,
   "id": "24f89d71",
   "metadata": {},
   "outputs": [
    {
     "data": {
      "text/plain": [
       "0         2\n",
       "1         6\n",
       "2        15\n",
       "3        30\n",
       "4        20\n",
       "         ..\n",
       "55495    30\n",
       "55496     9\n",
       "55497    28\n",
       "55498     6\n",
       "55499    27\n",
       "Name: Days Hospitalized, Length: 54966, dtype: int64"
      ]
     },
     "execution_count": 28,
     "metadata": {},
     "output_type": "execute_result"
    }
   ],
   "source": [
    "# Date of Admission and Discharge Date have dtype as object let's format it to datetime\n",
    "for date in ['Date of Admission','Discharge Date']:\n",
    "    df[date] = pd.to_datetime(df[date])\n",
    "    \n",
    "#calculate the no: of days patients got admitted in hospital\n",
    "df['Days Hospitalized'] = (df['Discharge Date'] - df['Date of Admission']).dt.days\n",
    "df['Days Hospitalized'] = df['Days Hospitalized'].astype(int)\n",
    "df['Days Hospitalized']"
   ]
  },
  {
   "cell_type": "markdown",
   "id": "22f1f9a4",
   "metadata": {},
   "source": [
    "**Analyze Hospital Stay Patterns**"
   ]
  },
  {
   "cell_type": "code",
   "execution_count": 29,
   "id": "937f58f1",
   "metadata": {},
   "outputs": [
    {
     "name": "stdout",
     "output_type": "stream",
     "text": [
      "Minimum and Maximum Days in Hospital by Condition:\n",
      "                    min  max       mean\n",
      "Medical Condition                     \n",
      "Arthritis            1   30  15.504231\n",
      "Asthma               1   30  15.677295\n",
      "Cancer               1   30  15.501204\n",
      "Diabetes             1   30  15.430664\n",
      "Hypertension         1   30  15.436236\n",
      "Obesity              1   30  15.447627\n"
     ]
    }
   ],
   "source": [
    "stay_range = df.groupby('Medical Condition')['Days Hospitalized'].agg(['min', 'max', 'mean']).sort_values(by='max', ascending=False)\n",
    "print(\"Minimum and Maximum Days in Hospital by Condition:\\n\", stay_range)"
   ]
  },
  {
   "cell_type": "markdown",
   "id": "57bd6deb",
   "metadata": {},
   "source": [
    "**Analyze Hospital Bill Patterns**"
   ]
  },
  {
   "cell_type": "code",
   "execution_count": 30,
   "id": "2fdb66e2",
   "metadata": {},
   "outputs": [
    {
     "name": "stdout",
     "output_type": "stream",
     "text": [
      "Billing Stats by Medical Condition:\n",
      "                    Min Billing  Max Billing  Average Billing\n",
      "Medical Condition                                           \n",
      "Arthritis                26.11     52170.04         25513.05\n",
      "Asthma                   32.35     52181.84         25635.64\n",
      "Cancer                    9.24     52373.03         25154.73\n",
      "Diabetes                 31.03     52211.85         25662.15\n",
      "Hypertension             23.87     52764.28         25504.91\n",
      "Obesity                  36.22     52024.73         25806.63\n"
     ]
    }
   ],
   "source": [
    "billing_stats = df.groupby('Medical Condition')['Billing Amount'].agg(['min', 'max', 'mean']).round(2)\n",
    "billing_stats = billing_stats.rename(columns={\n",
    "    'min': 'Min Billing',\n",
    "    'max': 'Max Billing',\n",
    "    'mean': 'Average Billing'\n",
    "})\n",
    "print(\"Billing Stats by Medical Condition:\\n\", billing_stats)"
   ]
  },
  {
   "cell_type": "code",
   "execution_count": 31,
   "id": "e2c981e4",
   "metadata": {},
   "outputs": [
    {
     "data": {
      "image/png": "[encoded data removed]",
      "text/plain": [
       "<Figure size 1000x600 with 1 Axes>"
      ]
     },
     "metadata": {},
     "output_type": "display_data"
    }
   ],
   "source": [
    "# Plotting grouped bar chart\n",
    "billing_stats.plot(kind='barh', figsize=(10, 6), width=0.7)\n",
    "\n",
    "plt.title('Min, Max, and Average Billing Amount by Medical Condition')\n",
    "plt.xlabel('Billing Amount ($)')\n",
    "plt.ylabel('Medical Condition')\n",
    "plt.grid(axis='x', linestyle='--', alpha=0.5)\n",
    "plt.legend(loc='lower right')\n",
    "plt.tight_layout()\n",
    "plt.show()"
   ]
  },
  {
   "cell_type": "code",
   "execution_count": 32,
   "id": "000e0dd5",
   "metadata": {},
   "outputs": [
    {
     "ename": "KeyError",
     "evalue": "'Min Insurance'",
     "output_type": "error",
     "traceback": [
      "\u001b[0;31m---------------------------------------------------------------------------\u001b[0m",
      "\u001b[0;31mKeyError\u001b[0m                                  Traceback (most recent call last)",
      "\u001b[0;32m/tmp/ipykernel_284984/4296796.py\u001b[0m in \u001b[0;36m?\u001b[0;34m()\u001b[0m\n\u001b[1;32m      1\u001b[0m \u001b[0mfig\u001b[0m\u001b[0;34m,\u001b[0m \u001b[0maxes\u001b[0m \u001b[0;34m=\u001b[0m \u001b[0mplt\u001b[0m\u001b[0;34m.\u001b[0m\u001b[0msubplots\u001b[0m\u001b[0;34m(\u001b[0m\u001b[0;36m1\u001b[0m\u001b[0;34m,\u001b[0m \u001b[0;36m3\u001b[0m\u001b[0;34m,\u001b[0m \u001b[0mfigsize\u001b[0m\u001b[0;34m=\u001b[0m\u001b[0;34m(\u001b[0m\u001b[0;36m18\u001b[0m\u001b[0;34m,\u001b[0m \u001b[0;36m6\u001b[0m\u001b[0;34m)\u001b[0m\u001b[0;34m,\u001b[0m \u001b[0msharey\u001b[0m\u001b[0;34m=\u001b[0m\u001b[0;32mTrue\u001b[0m\u001b[0;34m)\u001b[0m\u001b[0;34m\u001b[0m\u001b[0;34m\u001b[0m\u001b[0m\n\u001b[1;32m      2\u001b[0m \u001b[0;34m\u001b[0m\u001b[0m\n\u001b[0;32m----> 3\u001b[0;31m \u001b[0mbilling_stats\u001b[0m\u001b[0;34m.\u001b[0m\u001b[0msort_values\u001b[0m\u001b[0;34m(\u001b[0m\u001b[0;34m'Min Insurance'\u001b[0m\u001b[0;34m)\u001b[0m\u001b[0;34m[\u001b[0m\u001b[0;34m'Min Insurance'\u001b[0m\u001b[0;34m]\u001b[0m\u001b[0;34m.\u001b[0m\u001b[0mplot\u001b[0m\u001b[0;34m(\u001b[0m\u001b[0mkind\u001b[0m\u001b[0;34m=\u001b[0m\u001b[0;34m'barh'\u001b[0m\u001b[0;34m,\u001b[0m \u001b[0max\u001b[0m\u001b[0;34m=\u001b[0m\u001b[0maxes\u001b[0m\u001b[0;34m[\u001b[0m\u001b[0;36m0\u001b[0m\u001b[0;34m]\u001b[0m\u001b[0;34m,\u001b[0m \u001b[0mcolor\u001b[0m\u001b[0;34m=\u001b[0m\u001b[0;34m'lightgreen'\u001b[0m\u001b[0;34m)\u001b[0m\u001b[0;34m\u001b[0m\u001b[0;34m\u001b[0m\u001b[0m\n\u001b[0m\u001b[1;32m      4\u001b[0m \u001b[0maxes\u001b[0m\u001b[0;34m[\u001b[0m\u001b[0;36m0\u001b[0m\u001b[0;34m]\u001b[0m\u001b[0;34m.\u001b[0m\u001b[0mset_title\u001b[0m\u001b[0;34m(\u001b[0m\u001b[0;34m'Min Billing'\u001b[0m\u001b[0;34m)\u001b[0m\u001b[0;34m\u001b[0m\u001b[0;34m\u001b[0m\u001b[0m\n\u001b[1;32m      5\u001b[0m \u001b[0maxes\u001b[0m\u001b[0;34m[\u001b[0m\u001b[0;36m0\u001b[0m\u001b[0;34m]\u001b[0m\u001b[0;34m.\u001b[0m\u001b[0mset_xlabel\u001b[0m\u001b[0;34m(\u001b[0m\u001b[0;34m'Amount ($)'\u001b[0m\u001b[0;34m)\u001b[0m\u001b[0;34m\u001b[0m\u001b[0;34m\u001b[0m\u001b[0m\n\u001b[1;32m      6\u001b[0m \u001b[0;34m\u001b[0m\u001b[0m\n",
      "\u001b[0;32m~/anaconda3/lib/python3.11/site-packages/pandas/core/frame.py\u001b[0m in \u001b[0;36m?\u001b[0;34m(self, by, axis, ascending, inplace, kind, na_position, ignore_index, key)\u001b[0m\n\u001b[1;32m   7185\u001b[0m             )\n\u001b[1;32m   7186\u001b[0m         \u001b[0;32melif\u001b[0m \u001b[0mlen\u001b[0m\u001b[0;34m(\u001b[0m\u001b[0mby\u001b[0m\u001b[0;34m)\u001b[0m\u001b[0;34m:\u001b[0m\u001b[0;34m\u001b[0m\u001b[0;34m\u001b[0m\u001b[0m\n\u001b[1;32m   7187\u001b[0m             \u001b[0;31m# len(by) == 1\u001b[0m\u001b[0;34m\u001b[0m\u001b[0;34m\u001b[0m\u001b[0m\n\u001b[1;32m   7188\u001b[0m \u001b[0;34m\u001b[0m\u001b[0m\n\u001b[0;32m-> 7189\u001b[0;31m             \u001b[0mk\u001b[0m \u001b[0;34m=\u001b[0m \u001b[0mself\u001b[0m\u001b[0;34m.\u001b[0m\u001b[0m_get_label_or_level_values\u001b[0m\u001b[0;34m(\u001b[0m\u001b[0mby\u001b[0m\u001b[0;34m[\u001b[0m\u001b[0;36m0\u001b[0m\u001b[0;34m]\u001b[0m\u001b[0;34m,\u001b[0m \u001b[0maxis\u001b[0m\u001b[0;34m=\u001b[0m\u001b[0maxis\u001b[0m\u001b[0;34m)\u001b[0m\u001b[0;34m\u001b[0m\u001b[0;34m\u001b[0m\u001b[0m\n\u001b[0m\u001b[1;32m   7190\u001b[0m \u001b[0;34m\u001b[0m\u001b[0m\n\u001b[1;32m   7191\u001b[0m             \u001b[0;31m# need to rewrap column in Series to apply key function\u001b[0m\u001b[0;34m\u001b[0m\u001b[0;34m\u001b[0m\u001b[0m\n\u001b[1;32m   7192\u001b[0m             \u001b[0;32mif\u001b[0m \u001b[0mkey\u001b[0m \u001b[0;32mis\u001b[0m \u001b[0;32mnot\u001b[0m \u001b[0;32mNone\u001b[0m\u001b[0;34m:\u001b[0m\u001b[0;34m\u001b[0m\u001b[0;34m\u001b[0m\u001b[0m\n",
      "\u001b[0;32m~/anaconda3/lib/python3.11/site-packages/pandas/core/generic.py\u001b[0m in \u001b[0;36m?\u001b[0;34m(self, key, axis)\u001b[0m\n\u001b[1;32m   1907\u001b[0m             \u001b[0mvalues\u001b[0m \u001b[0;34m=\u001b[0m \u001b[0mself\u001b[0m\u001b[0;34m.\u001b[0m\u001b[0mxs\u001b[0m\u001b[0;34m(\u001b[0m\u001b[0mkey\u001b[0m\u001b[0;34m,\u001b[0m \u001b[0maxis\u001b[0m\u001b[0;34m=\u001b[0m\u001b[0mother_axes\u001b[0m\u001b[0;34m[\u001b[0m\u001b[0;36m0\u001b[0m\u001b[0;34m]\u001b[0m\u001b[0;34m)\u001b[0m\u001b[0;34m.\u001b[0m\u001b[0m_values\u001b[0m\u001b[0;34m\u001b[0m\u001b[0;34m\u001b[0m\u001b[0m\n\u001b[1;32m   1908\u001b[0m         \u001b[0;32melif\u001b[0m \u001b[0mself\u001b[0m\u001b[0;34m.\u001b[0m\u001b[0m_is_level_reference\u001b[0m\u001b[0;34m(\u001b[0m\u001b[0mkey\u001b[0m\u001b[0;34m,\u001b[0m \u001b[0maxis\u001b[0m\u001b[0;34m=\u001b[0m\u001b[0maxis\u001b[0m\u001b[0;34m)\u001b[0m\u001b[0;34m:\u001b[0m\u001b[0;34m\u001b[0m\u001b[0;34m\u001b[0m\u001b[0m\n\u001b[1;32m   1909\u001b[0m             \u001b[0mvalues\u001b[0m \u001b[0;34m=\u001b[0m \u001b[0mself\u001b[0m\u001b[0;34m.\u001b[0m\u001b[0maxes\u001b[0m\u001b[0;34m[\u001b[0m\u001b[0maxis\u001b[0m\u001b[0;34m]\u001b[0m\u001b[0;34m.\u001b[0m\u001b[0mget_level_values\u001b[0m\u001b[0;34m(\u001b[0m\u001b[0mkey\u001b[0m\u001b[0;34m)\u001b[0m\u001b[0;34m.\u001b[0m\u001b[0m_values\u001b[0m\u001b[0;34m\u001b[0m\u001b[0;34m\u001b[0m\u001b[0m\n\u001b[1;32m   1910\u001b[0m         \u001b[0;32melse\u001b[0m\u001b[0;34m:\u001b[0m\u001b[0;34m\u001b[0m\u001b[0;34m\u001b[0m\u001b[0m\n\u001b[0;32m-> 1911\u001b[0;31m             \u001b[0;32mraise\u001b[0m \u001b[0mKeyError\u001b[0m\u001b[0;34m(\u001b[0m\u001b[0mkey\u001b[0m\u001b[0;34m)\u001b[0m\u001b[0;34m\u001b[0m\u001b[0;34m\u001b[0m\u001b[0m\n\u001b[0m\u001b[1;32m   1912\u001b[0m \u001b[0;34m\u001b[0m\u001b[0m\n\u001b[1;32m   1913\u001b[0m         \u001b[0;31m# Check for duplicates\u001b[0m\u001b[0;34m\u001b[0m\u001b[0;34m\u001b[0m\u001b[0m\n\u001b[1;32m   1914\u001b[0m         \u001b[0;32mif\u001b[0m \u001b[0mvalues\u001b[0m\u001b[0;34m.\u001b[0m\u001b[0mndim\u001b[0m \u001b[0;34m>\u001b[0m \u001b[0;36m1\u001b[0m\u001b[0;34m:\u001b[0m\u001b[0;34m\u001b[0m\u001b[0;34m\u001b[0m\u001b[0m\n",
      "\u001b[0;31mKeyError\u001b[0m: 'Min Insurance'"
     ]
    },
    {
     "data": {
      "image/png": "[encoded data removed]",
      "text/plain": [
       "<Figure size 1800x600 with 3 Axes>"
      ]
     },
     "metadata": {},
     "output_type": "display_data"
    }
   ],
   "source": [
    "fig, axes = plt.subplots(1, 3, figsize=(18, 6), sharey=True)\n",
    "\n",
    "billing_stats.sort_values('Min Insurance')['Min Insurance'].plot(kind='barh', ax=axes[0], color='lightgreen')\n",
    "axes[0].set_title('Min Billing')\n",
    "axes[0].set_xlabel('Amount ($)')\n",
    "\n",
    "billing_stats.sort_values('Max Insurance')['Max Insurance'].plot(kind='barh', ax=axes[1], color='salmon')\n",
    "axes[1].set_title('Max Billing')\n",
    "axes[1].set_xlabel('Amount ($)')\n",
    "\n",
    "billing_stats.sort_values('Average Insurance')['Average Insurance'].plot(kind='barh', ax=axes[2], color='skyblue')\n",
    "axes[2].set_title('Average Billing')\n",
    "axes[2].set_xlabel('Amount ($)')\n",
    "\n",
    "fig.suptitle('Billing Amounts by Medical Condition', fontsize=16)\n",
    "plt.tight_layout()\n",
    "plt.show()\n"
   ]
  },
  {
   "cell_type": "code",
   "execution_count": 33,
   "id": "96c20610",
   "metadata": {},
   "outputs": [
    {
     "data": {
      "image/png": "[encoded data removed]",
      "text/plain": [
       "<Figure size 1000x600 with 1 Axes>"
      ]
     },
     "metadata": {},
     "output_type": "display_data"
    }
   ],
   "source": [
    "billing_stats.plot(kind='barh', figsize=(10, 6), logx=True)\n",
    "plt.title('Billing by Medical Condition (Log Scale)')\n",
    "plt.xlabel('Billing Amount ($, Log Scale)')\n",
    "plt.tight_layout()\n",
    "plt.show()"
   ]
  },
  {
   "cell_type": "markdown",
   "id": "ae39cc3a",
   "metadata": {},
   "source": [
    "**Count + Total Billing per Insurance Provider**"
   ]
  },
  {
   "cell_type": "markdown",
   "id": "8ef4d7dd",
   "metadata": {},
   "source": [
    "**Insurance Provider by Medical Condition**"
   ]
  },
  {
   "cell_type": "code",
   "execution_count": null,
   "id": "9cbd3415",
   "metadata": {},
   "outputs": [
    {
     "name": "stdout",
     "output_type": "stream",
     "text": [
      "Insurance Provider by Medical Condition:\n",
      "                    Min Insurance  Max Insurance  Average Insurance\n",
      "Medical Condition                                                 \n",
      "Arthritis                  26.11       52170.04           25513.05\n",
      "Asthma                     32.35       52181.84           25635.64\n",
      "Cancer                      9.24       52373.03           25154.73\n",
      "Diabetes                   31.03       52211.85           25662.15\n",
      "Hypertension               23.87       52764.28           25504.91\n",
      "Obesity                    36.22       52024.73           25806.63\n"
     ]
    }
   ],
   "source": [
    "billing_stats = df.groupby('Medical Condition')['Billing Amount'].agg(['min', 'max', 'mean']).round(2)\n",
    "billing_stats = billing_stats.rename(columns={\n",
    "    'min': 'Min Insurance',\n",
    "    'max': 'Max Insurance',\n",
    "    'mean': 'Average Insurance'\n",
    "})\n",
    "print(\"Insurance Provider by Medical Condition:\\n\", billing_stats)"
   ]
  },
  {
   "cell_type": "code",
   "execution_count": null,
   "id": "86067100",
   "metadata": {},
   "outputs": [
    {
     "name": "stdout",
     "output_type": "stream",
     "text": [
      "Insurance Summary:\n",
      "                     Number of Patients  Total Billing ($)\n",
      "Insurance Provider                                       \n",
      "Aetna                            10822       2.765347e+08\n",
      "Blue Cross                       10952       2.804243e+08\n",
      "Cigna                            11139       2.843588e+08\n",
      "Medicare                         11039       2.829313e+08\n",
      "UnitedHealthcare                 11014       2.799257e+08\n"
     ]
    }
   ],
   "source": [
    "insurance_summary = df.groupby('Insurance Provider')['Billing Amount'].agg(['count', 'sum']).round(2)\n",
    "insurance_summary = insurance_summary.rename(columns={\n",
    "    'count': 'Number of Patients',\n",
    "    'sum': 'Total Billing ($)'\n",
    "})\n",
    "\n",
    "print(\"Insurance Summary:\\n\", insurance_summary)\n"
   ]
  },
  {
   "cell_type": "code",
   "execution_count": null,
   "id": "98747517",
   "metadata": {},
   "outputs": [
    {
     "data": {
      "image/png": "[encoded data removed]",
      "text/plain": [
       "<Figure size 1000x600 with 1 Axes>"
      ]
     },
     "metadata": {},
     "output_type": "display_data"
    }
   ],
   "source": [
    "insurance_summary.sort_values('Total Billing ($)').plot(kind='barh', figsize=(10,6), color='purple')\n",
    "plt.title('Total Billing by Insurance Provider')\n",
    "plt.xlabel('Total Billing ($)')\n",
    "plt.ylabel('Insurance Provider')\n",
    "plt.grid(axis='x', linestyle='--', alpha=0.6)\n",
    "plt.tight_layout()\n",
    "plt.show()"
   ]
  },
  {
   "cell_type": "code",
   "execution_count": null,
   "id": "bd678f09",
   "metadata": {},
   "outputs": [],
   "source": []
  },
  {
   "cell_type": "code",
   "execution_count": null,
   "id": "e153bdc6",
   "metadata": {},
   "outputs": [
    {
     "name": "stdout",
     "output_type": "stream",
     "text": [
      "Gender\n",
      "Male      27496\n",
      "Female    27470\n",
      "Name: count, dtype: int64\n",
      "--\n",
      "Blood Type\n",
      "A-     6898\n",
      "A+     6896\n",
      "B+     6885\n",
      "AB+    6882\n",
      "AB-    6874\n",
      "B-     6872\n",
      "O+     6855\n",
      "O-     6804\n",
      "Name: count, dtype: int64\n",
      "--\n",
      "Medical Condition\n",
      "Arthritis       9218\n",
      "Diabetes        9216\n",
      "Hypertension    9151\n",
      "Obesity         9146\n",
      "Cancer          9140\n",
      "Asthma          9095\n",
      "Name: count, dtype: int64\n",
      "--\n",
      "Doctor\n",
      "Michael Smith      27\n",
      "John Smith         22\n",
      "Robert Smith       21\n",
      "Michael Johnson    20\n",
      "James Smith        20\n",
      "                   ..\n",
      "Wanda Stark         1\n",
      "Tiffany Gibson      1\n",
      "Christy Klein       1\n",
      "Martin Wilson       1\n",
      "Paul Cunningham     1\n",
      "Name: count, Length: 40341, dtype: int64\n",
      "--\n",
      "Insurance Provider\n",
      "Cigna               11139\n",
      "Medicare            11039\n",
      "UnitedHealthcare    11014\n",
      "Blue Cross          10952\n",
      "Aetna               10822\n",
      "Name: count, dtype: int64\n",
      "--\n",
      "Admission Type\n",
      "Elective     18473\n",
      "Urgent       18391\n",
      "Emergency    18102\n",
      "Name: count, dtype: int64\n",
      "--\n",
      "Medication\n",
      "Lipitor        11038\n",
      "Ibuprofen      11023\n",
      "Aspirin        10984\n",
      "Paracetamol    10965\n",
      "Penicillin     10956\n",
      "Name: count, dtype: int64\n",
      "--\n",
      "Test Results\n",
      "Abnormal        18437\n",
      "Normal          18331\n",
      "Inconclusive    18198\n",
      "Name: count, dtype: int64\n",
      "--\n"
     ]
    }
   ],
   "source": []
  },
  {
   "cell_type": "code",
   "execution_count": null,
   "id": "1cabc63b",
   "metadata": {},
   "outputs": [],
   "source": []
  }
 ],
 "metadata": {
  "kernelspec": {
   "display_name": "base",
   "language": "python",
   "name": "python3"
  },
  "language_info": {
   "codemirror_mode": {
    "name": "ipython",
    "version": 3
   },
   "file_extension": ".py",
   "mimetype": "text/x-python",
   "name": "python",
   "nbconvert_exporter": "python",
   "pygments_lexer": "ipython3",
   "version": "3.11.10"
  }
 },
 "nbformat": 4,
 "nbformat_minor": 5
}
